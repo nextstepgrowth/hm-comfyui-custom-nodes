{
 "cells": [
  {
   "cell_type": "code",
   "execution_count": 7,
   "metadata": {},
   "outputs": [
    {
     "name": "stdout",
     "output_type": "stream",
     "text": [
      "Calculated scale: 1\n"
     ]
    }
   ],
   "source": [
    "import numpy as np\n",
    "\n",
    "\n",
    "def calculate_scale(tensor1, tensor2):\n",
    "    \"\"\"\n",
    "    Calculate the scaling factor to make the sums of tensor1 and tensor2 as close as possible.\n",
    "\n",
    "    Args:\n",
    "        tensor1 (numpy.ndarray): A 4D tensor of shape (B, C, H, W).\n",
    "        tensor2 (numpy.ndarray): A 4D tensor of shape (B, C, H, W).\n",
    "\n",
    "    Returns:\n",
    "        int: Scaling factor to scale tensor2 to match tensor1.\n",
    "    \"\"\"\n",
    "    # Sum all values across each tensor\n",
    "    sum_tensor1 = np.sum(tensor1, axis=(1, 2, 3))  # Sum over H, W dimensions\n",
    "    sum_tensor2 = np.sum(tensor2, axis=(1, 2, 3))  # Sum over H, W dimensions\n",
    "\n",
    "    # Calculate scale factors for each batch and channel\n",
    "    scale_factors = sum_tensor1 / sum_tensor2\n",
    "\n",
    "    # Average scaling factor across all batches and channels\n",
    "    scale = np.mean(scale_factors)\n",
    "\n",
    "    # Convert to integer for uniform scaling\n",
    "    return int(round(scale))\n",
    "\n",
    "\n",
    "\n",
    "tensor1 = np.random.randint(0, 2, size=(4, 3, 256, 256))\n",
    "tensor2 = np.random.randint(0, 2, size=(4, 3, 256, 256))\n",
    "\n",
    "scale = calculate_scale(tensor1, tensor2)\n",
    "print(f\"Calculated scale: {scale}\")\n"
   ]
  },
  {
   "cell_type": "code",
   "execution_count": 9,
   "metadata": {},
   "outputs": [
    {
     "data": {
      "image/png": "[encoded data removed]",
      "text/plain": [
       "<Figure size 1000x500 with 2 Axes>"
      ]
     },
     "metadata": {},
     "output_type": "display_data"
    }
   ],
   "source": [
    "import matplotlib.pyplot as plt\n",
    "\n",
    "def draw_rectangle_on_tensor(tensor, top_left, bottom_right, value=1):\n",
    "    \"\"\"\n",
    "    Draw a rectangle on a given tensor.\n",
    "    \n",
    "    Args:\n",
    "        tensor (numpy.ndarray): The 2D tensor (H, W) to draw on.\n",
    "        top_left (tuple): The (row, col) of the top-left corner of the rectangle.\n",
    "        bottom_right (tuple): The (row, col) of the bottom-right corner of the rectangle.\n",
    "        value (int): The value to fill inside the rectangle.\n",
    "    \"\"\"\n",
    "    tensor[top_left[0]:bottom_right[0], top_left[1]:bottom_right[1]] = value\n",
    "\n",
    "\n",
    "# Create two tensors of size (256, 256)\n",
    "tensor1 = np.zeros((256, 256))\n",
    "tensor2 = np.zeros((256, 256))\n",
    "\n",
    "# Draw rectangles with different sizes on the tensors\n",
    "draw_rectangle_on_tensor(tensor1, (100, 100), (200, 200), value=1)\n",
    "draw_rectangle_on_tensor(tensor2, (100, 100), (110, 110), value=1)\n",
    "\n",
    "# Plot the tensors for visualization\n",
    "fig, axes = plt.subplots(1, 2, figsize=(10, 5))\n",
    "axes[0].imshow(tensor1, cmap='gray')\n",
    "axes[0].set_title(\"Tensor 1 (Rectangle)\")\n",
    "axes[0].axis('off')\n",
    "\n",
    "axes[1].imshow(tensor2, cmap='gray')\n",
    "axes[1].set_title(\"Tensor 2 (Rectangle)\")\n",
    "axes[1].axis('off')\n",
    "\n",
    "plt.tight_layout()\n",
    "plt.show()"
   ]
  },
  {
   "cell_type": "code",
   "execution_count": null,
   "metadata": {},
   "outputs": [
    {
     "name": "stdout",
     "output_type": "stream",
     "text": [
      "Calculated scale: 100\n"
     ]
    }
   ],
   "source": [
    "# 위 두개의 tensor 를 B, C, H, W 로 만들어서 calculate_scale 함수를 통해 scale을 구해보자.\n",
    "\n",
    "tensor1 = np.expand_dims(tensor1, axis=0)  # Add batch dimension\n",
    "tensor1 = np.expand_dims(tensor1, axis=0)  # Add channel dimension\n",
    "\n",
    "tensor2 = np.expand_dims(tensor2, axis=0)  # Add batch dimension\n",
    "tensor2 = np.expand_dims(tensor2, axis=0)  # Add channel dimension\n",
    "\n",
    "scale = calculate_scale(tensor1, tensor2) \n",
    "print(f\"Calculated scale: {scale}\")"
   ]
  },
  {
   "cell_type": "code",
   "execution_count": null,
   "metadata": {},
   "outputs": [],
   "source": []
  }
 ],
 "metadata": {
  "kernelspec": {
   "display_name": "Python 3",
   "language": "python",
   "name": "python3"
  },
  "language_info": {
   "codemirror_mode": {
    "name": "ipython",
    "version": 3
   },
   "file_extension": ".py",
   "mimetype": "text/x-python",
   "name": "python",
   "nbconvert_exporter": "python",
   "pygments_lexer": "ipython3",
   "version": "3.10.15"
  }
 },
 "nbformat": 4,
 "nbformat_minor": 2
}
